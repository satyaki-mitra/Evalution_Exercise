{
 "cells": [
  {
   "cell_type": "code",
   "execution_count": 29,
   "metadata": {},
   "outputs": [],
   "source": [
    "import pandas as pd\n",
    "import quandl"
   ]
  },
  {
   "cell_type": "code",
   "execution_count": 30,
   "metadata": {},
   "outputs": [],
   "source": [
    "API_Key = 'yAaYLTzP5XcW5jQvueqJ'\n",
    "stock_code = \"BSE/BOM500209\""
   ]
  },
  {
   "cell_type": "code",
   "execution_count": 31,
   "metadata": {},
   "outputs": [],
   "source": [
    "my_data = quandl.get(stock_code, authtoken = API_Key, start_date = \"2016-07-01\")"
   ]
  },
  {
   "cell_type": "code",
   "execution_count": 32,
   "metadata": {},
   "outputs": [],
   "source": [
    "my_data.to_pickle('Infosys_LTD.pickle')"
   ]
  },
  {
   "cell_type": "code",
   "execution_count": 33,
   "metadata": {},
   "outputs": [],
   "source": [
    "infy_data = pd.read_pickle('Infosys_LTD.pickle')"
   ]
  },
  {
   "cell_type": "code",
   "execution_count": 34,
   "metadata": {},
   "outputs": [
    {
     "data": {
      "text/html": [
       "<div>\n",
       "<style scoped>\n",
       "    .dataframe tbody tr th:only-of-type {\n",
       "        vertical-align: middle;\n",
       "    }\n",
       "\n",
       "    .dataframe tbody tr th {\n",
       "        vertical-align: top;\n",
       "    }\n",
       "\n",
       "    .dataframe thead th {\n",
       "        text-align: right;\n",
       "    }\n",
       "</style>\n",
       "<table border=\"1\" class=\"dataframe\">\n",
       "  <thead>\n",
       "    <tr style=\"text-align: right;\">\n",
       "      <th></th>\n",
       "      <th>Open</th>\n",
       "      <th>High</th>\n",
       "      <th>Low</th>\n",
       "      <th>Close</th>\n",
       "      <th>WAP</th>\n",
       "      <th>No. of Shares</th>\n",
       "      <th>No. of Trades</th>\n",
       "      <th>Total Turnover</th>\n",
       "      <th>Deliverable Quantity</th>\n",
       "      <th>% Deli. Qty to Traded Qty</th>\n",
       "      <th>Spread H-L</th>\n",
       "      <th>Spread C-O</th>\n",
       "    </tr>\n",
       "    <tr>\n",
       "      <th>Date</th>\n",
       "      <th></th>\n",
       "      <th></th>\n",
       "      <th></th>\n",
       "      <th></th>\n",
       "      <th></th>\n",
       "      <th></th>\n",
       "      <th></th>\n",
       "      <th></th>\n",
       "      <th></th>\n",
       "      <th></th>\n",
       "      <th></th>\n",
       "      <th></th>\n",
       "    </tr>\n",
       "  </thead>\n",
       "  <tbody>\n",
       "    <tr>\n",
       "      <th>2016-07-01</th>\n",
       "      <td>1180.00</td>\n",
       "      <td>1180.55</td>\n",
       "      <td>1170.00</td>\n",
       "      <td>1172.10</td>\n",
       "      <td>1174.48</td>\n",
       "      <td>97337.0</td>\n",
       "      <td>5179.0</td>\n",
       "      <td>1.143199e+08</td>\n",
       "      <td>41841.0</td>\n",
       "      <td>42.99</td>\n",
       "      <td>10.55</td>\n",
       "      <td>-7.90</td>\n",
       "    </tr>\n",
       "    <tr>\n",
       "      <th>2016-07-04</th>\n",
       "      <td>1176.00</td>\n",
       "      <td>1194.80</td>\n",
       "      <td>1176.00</td>\n",
       "      <td>1184.25</td>\n",
       "      <td>1186.22</td>\n",
       "      <td>159245.0</td>\n",
       "      <td>5680.0</td>\n",
       "      <td>1.889001e+08</td>\n",
       "      <td>86085.0</td>\n",
       "      <td>54.06</td>\n",
       "      <td>18.80</td>\n",
       "      <td>8.25</td>\n",
       "    </tr>\n",
       "    <tr>\n",
       "      <th>2016-07-05</th>\n",
       "      <td>1185.00</td>\n",
       "      <td>1185.50</td>\n",
       "      <td>1171.55</td>\n",
       "      <td>1175.45</td>\n",
       "      <td>1177.11</td>\n",
       "      <td>73198.0</td>\n",
       "      <td>3924.0</td>\n",
       "      <td>8.616222e+07</td>\n",
       "      <td>31913.0</td>\n",
       "      <td>43.60</td>\n",
       "      <td>13.95</td>\n",
       "      <td>-9.55</td>\n",
       "    </tr>\n",
       "    <tr>\n",
       "      <th>2016-07-07</th>\n",
       "      <td>1175.45</td>\n",
       "      <td>1175.45</td>\n",
       "      <td>1155.00</td>\n",
       "      <td>1157.20</td>\n",
       "      <td>1160.42</td>\n",
       "      <td>167697.0</td>\n",
       "      <td>9614.0</td>\n",
       "      <td>1.945990e+08</td>\n",
       "      <td>70120.0</td>\n",
       "      <td>41.81</td>\n",
       "      <td>20.45</td>\n",
       "      <td>-18.25</td>\n",
       "    </tr>\n",
       "    <tr>\n",
       "      <th>2016-07-08</th>\n",
       "      <td>1177.20</td>\n",
       "      <td>1177.20</td>\n",
       "      <td>1153.20</td>\n",
       "      <td>1158.75</td>\n",
       "      <td>1161.99</td>\n",
       "      <td>1305599.0</td>\n",
       "      <td>4558.0</td>\n",
       "      <td>1.517096e+09</td>\n",
       "      <td>1234536.0</td>\n",
       "      <td>94.56</td>\n",
       "      <td>24.00</td>\n",
       "      <td>-18.45</td>\n",
       "    </tr>\n",
       "  </tbody>\n",
       "</table>\n",
       "</div>"
      ],
      "text/plain": [
       "               Open     High      Low    Close      WAP  No. of Shares  \\\n",
       "Date                                                                     \n",
       "2016-07-01  1180.00  1180.55  1170.00  1172.10  1174.48        97337.0   \n",
       "2016-07-04  1176.00  1194.80  1176.00  1184.25  1186.22       159245.0   \n",
       "2016-07-05  1185.00  1185.50  1171.55  1175.45  1177.11        73198.0   \n",
       "2016-07-07  1175.45  1175.45  1155.00  1157.20  1160.42       167697.0   \n",
       "2016-07-08  1177.20  1177.20  1153.20  1158.75  1161.99      1305599.0   \n",
       "\n",
       "            No. of Trades  Total Turnover  Deliverable Quantity  \\\n",
       "Date                                                              \n",
       "2016-07-01         5179.0    1.143199e+08               41841.0   \n",
       "2016-07-04         5680.0    1.889001e+08               86085.0   \n",
       "2016-07-05         3924.0    8.616222e+07               31913.0   \n",
       "2016-07-07         9614.0    1.945990e+08               70120.0   \n",
       "2016-07-08         4558.0    1.517096e+09             1234536.0   \n",
       "\n",
       "            % Deli. Qty to Traded Qty  Spread H-L  Spread C-O  \n",
       "Date                                                           \n",
       "2016-07-01                      42.99       10.55       -7.90  \n",
       "2016-07-04                      54.06       18.80        8.25  \n",
       "2016-07-05                      43.60       13.95       -9.55  \n",
       "2016-07-07                      41.81       20.45      -18.25  \n",
       "2016-07-08                      94.56       24.00      -18.45  "
      ]
     },
     "execution_count": 34,
     "metadata": {},
     "output_type": "execute_result"
    }
   ],
   "source": [
    "infy_data.head()"
   ]
  },
  {
   "cell_type": "code",
   "execution_count": 35,
   "metadata": {},
   "outputs": [],
   "source": [
    "my_data.to_csv('Infosys_LTD.csv')"
   ]
  },
  {
   "cell_type": "code",
   "execution_count": 36,
   "metadata": {},
   "outputs": [],
   "source": [
    "infy_data1 = pd.read_csv('Infosys_LTD.csv', index_col = 0)"
   ]
  },
  {
   "cell_type": "code",
   "execution_count": 37,
   "metadata": {},
   "outputs": [
    {
     "data": {
      "text/plain": [
       "(363, 12)"
      ]
     },
     "execution_count": 37,
     "metadata": {},
     "output_type": "execute_result"
    }
   ],
   "source": [
    "infy_data1.shape"
   ]
  },
  {
   "cell_type": "code",
   "execution_count": 38,
   "metadata": {},
   "outputs": [
    {
     "data": {
      "text/html": [
       "<div>\n",
       "<style scoped>\n",
       "    .dataframe tbody tr th:only-of-type {\n",
       "        vertical-align: middle;\n",
       "    }\n",
       "\n",
       "    .dataframe tbody tr th {\n",
       "        vertical-align: top;\n",
       "    }\n",
       "\n",
       "    .dataframe thead th {\n",
       "        text-align: right;\n",
       "    }\n",
       "</style>\n",
       "<table border=\"1\" class=\"dataframe\">\n",
       "  <thead>\n",
       "    <tr style=\"text-align: right;\">\n",
       "      <th></th>\n",
       "      <th>Open</th>\n",
       "      <th>High</th>\n",
       "      <th>Low</th>\n",
       "      <th>Close</th>\n",
       "      <th>WAP</th>\n",
       "      <th>No. of Shares</th>\n",
       "      <th>No. of Trades</th>\n",
       "      <th>Total Turnover</th>\n",
       "      <th>Deliverable Quantity</th>\n",
       "      <th>% Deli. Qty to Traded Qty</th>\n",
       "      <th>Spread H-L</th>\n",
       "      <th>Spread C-O</th>\n",
       "    </tr>\n",
       "    <tr>\n",
       "      <th>Date</th>\n",
       "      <th></th>\n",
       "      <th></th>\n",
       "      <th></th>\n",
       "      <th></th>\n",
       "      <th></th>\n",
       "      <th></th>\n",
       "      <th></th>\n",
       "      <th></th>\n",
       "      <th></th>\n",
       "      <th></th>\n",
       "      <th></th>\n",
       "      <th></th>\n",
       "    </tr>\n",
       "  </thead>\n",
       "  <tbody>\n",
       "    <tr>\n",
       "      <th>2016-07-01</th>\n",
       "      <td>1180.00</td>\n",
       "      <td>1180.55</td>\n",
       "      <td>1170.00</td>\n",
       "      <td>1172.10</td>\n",
       "      <td>1174.48</td>\n",
       "      <td>97337.0</td>\n",
       "      <td>5179.0</td>\n",
       "      <td>1.143199e+08</td>\n",
       "      <td>41841.0</td>\n",
       "      <td>42.99</td>\n",
       "      <td>10.55</td>\n",
       "      <td>-7.90</td>\n",
       "    </tr>\n",
       "    <tr>\n",
       "      <th>2016-07-04</th>\n",
       "      <td>1176.00</td>\n",
       "      <td>1194.80</td>\n",
       "      <td>1176.00</td>\n",
       "      <td>1184.25</td>\n",
       "      <td>1186.22</td>\n",
       "      <td>159245.0</td>\n",
       "      <td>5680.0</td>\n",
       "      <td>1.889001e+08</td>\n",
       "      <td>86085.0</td>\n",
       "      <td>54.06</td>\n",
       "      <td>18.80</td>\n",
       "      <td>8.25</td>\n",
       "    </tr>\n",
       "    <tr>\n",
       "      <th>2016-07-05</th>\n",
       "      <td>1185.00</td>\n",
       "      <td>1185.50</td>\n",
       "      <td>1171.55</td>\n",
       "      <td>1175.45</td>\n",
       "      <td>1177.11</td>\n",
       "      <td>73198.0</td>\n",
       "      <td>3924.0</td>\n",
       "      <td>8.616222e+07</td>\n",
       "      <td>31913.0</td>\n",
       "      <td>43.60</td>\n",
       "      <td>13.95</td>\n",
       "      <td>-9.55</td>\n",
       "    </tr>\n",
       "    <tr>\n",
       "      <th>2016-07-07</th>\n",
       "      <td>1175.45</td>\n",
       "      <td>1175.45</td>\n",
       "      <td>1155.00</td>\n",
       "      <td>1157.20</td>\n",
       "      <td>1160.42</td>\n",
       "      <td>167697.0</td>\n",
       "      <td>9614.0</td>\n",
       "      <td>1.945990e+08</td>\n",
       "      <td>70120.0</td>\n",
       "      <td>41.81</td>\n",
       "      <td>20.45</td>\n",
       "      <td>-18.25</td>\n",
       "    </tr>\n",
       "    <tr>\n",
       "      <th>2016-07-08</th>\n",
       "      <td>1177.20</td>\n",
       "      <td>1177.20</td>\n",
       "      <td>1153.20</td>\n",
       "      <td>1158.75</td>\n",
       "      <td>1161.99</td>\n",
       "      <td>1305599.0</td>\n",
       "      <td>4558.0</td>\n",
       "      <td>1.517096e+09</td>\n",
       "      <td>1234536.0</td>\n",
       "      <td>94.56</td>\n",
       "      <td>24.00</td>\n",
       "      <td>-18.45</td>\n",
       "    </tr>\n",
       "  </tbody>\n",
       "</table>\n",
       "</div>"
      ],
      "text/plain": [
       "               Open     High      Low    Close      WAP  No. of Shares  \\\n",
       "Date                                                                     \n",
       "2016-07-01  1180.00  1180.55  1170.00  1172.10  1174.48        97337.0   \n",
       "2016-07-04  1176.00  1194.80  1176.00  1184.25  1186.22       159245.0   \n",
       "2016-07-05  1185.00  1185.50  1171.55  1175.45  1177.11        73198.0   \n",
       "2016-07-07  1175.45  1175.45  1155.00  1157.20  1160.42       167697.0   \n",
       "2016-07-08  1177.20  1177.20  1153.20  1158.75  1161.99      1305599.0   \n",
       "\n",
       "            No. of Trades  Total Turnover  Deliverable Quantity  \\\n",
       "Date                                                              \n",
       "2016-07-01         5179.0    1.143199e+08               41841.0   \n",
       "2016-07-04         5680.0    1.889001e+08               86085.0   \n",
       "2016-07-05         3924.0    8.616222e+07               31913.0   \n",
       "2016-07-07         9614.0    1.945990e+08               70120.0   \n",
       "2016-07-08         4558.0    1.517096e+09             1234536.0   \n",
       "\n",
       "            % Deli. Qty to Traded Qty  Spread H-L  Spread C-O  \n",
       "Date                                                           \n",
       "2016-07-01                      42.99       10.55       -7.90  \n",
       "2016-07-04                      54.06       18.80        8.25  \n",
       "2016-07-05                      43.60       13.95       -9.55  \n",
       "2016-07-07                      41.81       20.45      -18.25  \n",
       "2016-07-08                      94.56       24.00      -18.45  "
      ]
     },
     "execution_count": 38,
     "metadata": {},
     "output_type": "execute_result"
    }
   ],
   "source": [
    "infy_data1.head()"
   ]
  },
  {
   "cell_type": "code",
   "execution_count": 39,
   "metadata": {},
   "outputs": [
    {
     "data": {
      "text/plain": [
       "((363, 12), (363, 12))"
      ]
     },
     "execution_count": 39,
     "metadata": {},
     "output_type": "execute_result"
    }
   ],
   "source": [
    "infy_data.shape, infy_data1.shape"
   ]
  },
  {
   "cell_type": "code",
   "execution_count": null,
   "metadata": {},
   "outputs": [],
   "source": []
  },
  {
   "cell_type": "code",
   "execution_count": null,
   "metadata": {},
   "outputs": [],
   "source": []
  }
 ],
 "metadata": {
  "kernelspec": {
   "display_name": "Python 2",
   "language": "python",
   "name": "python2"
  },
  "language_info": {
   "codemirror_mode": {
    "name": "ipython",
    "version": 2
   },
   "file_extension": ".py",
   "mimetype": "text/x-python",
   "name": "python",
   "nbconvert_exporter": "python",
   "pygments_lexer": "ipython2",
   "version": "2.7.12"
  }
 },
 "nbformat": 4,
 "nbformat_minor": 2
}
