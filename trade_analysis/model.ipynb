{
 "cells": [
  {
   "cell_type": "code",
   "execution_count": 1,
   "metadata": {},
   "outputs": [],
   "source": [
    "import pandas as pd\n",
    "\n",
    "\n",
    "class Pair(object):\n",
    "    def __init__(self, name):\n",
    "        self._name = name\n",
    "    def __repr__(self):\n",
    "        return \"%s\" % self._name\n",
    "\n",
    "    \n",
    "class Trade(object):\n",
    "    \n",
    "    def __init__(self, name, _dict):\n",
    "        ''' This function takes the trade informations from the dictionary '''\n",
    "        self.pair = Pair(name)\n",
    "        try:\n",
    "            self._date = pd.to_datetime(_dict['date'])\n",
    "        except:\n",
    "            self._date = None\n",
    "        try:   \n",
    "            self._price = float(_dict['price']) \n",
    "        except:\n",
    "            self._price = None\n",
    "        try:\n",
    "            self._amount = float(_dict['amount'])\n",
    "        except:\n",
    "            self._amount = None\n",
    "        try:\n",
    "            self._amountBase = float(_dict['amountBase'])\n",
    "        except:\n",
    "            self._amountBase = None\n",
    "        try:\n",
    "            self._buyer = str(_dict['buyer'])\n",
    "        except:\n",
    "            self._buyer = None\n",
    "        try:\n",
    "            self._seller = str(_dict['seller'])\n",
    "        except:\n",
    "            self._seller = None\n",
    "        try:\n",
    "            self._side = str(_dict['side'])\n",
    "        except:\n",
    "            self._side = None\n",
    "        try:\n",
    "            self._tokenAddr = str(_dict['tokenAddr'])\n",
    "        except:\n",
    "            self._tokenAddr = None\n",
    "        try:\n",
    "            self._txHash = str(_dict['txHash'])\n",
    "        except :\n",
    "            self._txHash = None\n",
    "                 \n",
    "    def __repr__(self):\n",
    "        '''This function returns the representation of the Trade class'''\n",
    "        return \"(%s | %s | %s | %s | %s | %s | %s | %s | %s | %s)\" %(self.pair, self._date, self._amount, self._amountBase, self._price, self._buyer, self._seller, self._side, self._tokenAddr, self._txHash) \n"
   ]
  },
  {
   "cell_type": "code",
   "execution_count": null,
   "metadata": {},
   "outputs": [],
   "source": [
    "import json\n",
    "#from model import Pair, Trade"
   ]
  },
  {
   "cell_type": "code",
   "execution_count": null,
   "metadata": {},
   "outputs": [],
   "source": [
    "fp = open(\"input_csv/ed_trade_data.json\")\n",
    "jsondata = json.load(fp)\n",
    "pairlist = jsondata.keys()"
   ]
  },
  {
   "cell_type": "code",
   "execution_count": null,
   "metadata": {},
   "outputs": [],
   "source": [
    "x = jsondata['ETH_NEWB']"
   ]
  },
  {
   "cell_type": "code",
   "execution_count": null,
   "metadata": {},
   "outputs": [],
   "source": [
    "x[10]"
   ]
  },
  {
   "cell_type": "code",
   "execution_count": null,
   "metadata": {},
   "outputs": [],
   "source": [
    "y = {u'amount': u'510',\n",
    " u'amountBase': u'0.01377',\n",
    " u'tokenAddr': u'0x814964b1bceaf24e26296d031eadf134a2ca4105',\n",
    " u'txHash': u'0x122b9d6932b50d748d7848aae071cf41f7df8baa1400472dbcc4182bf3287478'}"
   ]
  },
  {
   "cell_type": "code",
   "execution_count": null,
   "metadata": {},
   "outputs": [],
   "source": [
    "p = Trade('ETH_NEWB', y)\n",
    "p"
   ]
  },
  {
   "cell_type": "code",
   "execution_count": null,
   "metadata": {},
   "outputs": [],
   "source": [
    "total_data = []\n",
    "for i in pairlist:\n",
    "    pair = Pair(i)\n",
    "    pair_data = jsondata[str(pair)]\n",
    "    trades = []\n",
    "    for j in pair_data:\n",
    "        trade = Trade(i, j)\n",
    "        trades.append(trade)\n",
    "    total_data.append(trades)"
   ]
  },
  {
   "cell_type": "code",
   "execution_count": null,
   "metadata": {},
   "outputs": [],
   "source": [
    "pd.DataFrame(total_data)"
   ]
  },
  {
   "cell_type": "code",
   "execution_count": null,
   "metadata": {},
   "outputs": [],
   "source": []
  },
  {
   "cell_type": "code",
   "execution_count": null,
   "metadata": {},
   "outputs": [],
   "source": [
    "total_info = []\n",
    "for i in pairlist:\n",
    "    pair = Pair(i)\n",
    "    pair_data = jsondata[str(pair)]\n",
    "    for j in pair_data:\n",
    "        trade = Trade(i,j)\n",
    "        trade_info = (trade)\n",
    "        total_info.append(trade_info)"
   ]
  },
  {
   "cell_type": "code",
   "execution_count": null,
   "metadata": {},
   "outputs": [],
   "source": [
    "a = pd.DataFrame(total_info)"
   ]
  },
  {
   "cell_type": "code",
   "execution_count": null,
   "metadata": {},
   "outputs": [],
   "source": [
    "a.columns = ['Trade']"
   ]
  },
  {
   "cell_type": "code",
   "execution_count": null,
   "metadata": {},
   "outputs": [],
   "source": [
    "a"
   ]
  },
  {
   "cell_type": "code",
   "execution_count": null,
   "metadata": {},
   "outputs": [],
   "source": [
    "b['Trade']"
   ]
  },
  {
   "cell_type": "code",
   "execution_count": null,
   "metadata": {},
   "outputs": [],
   "source": []
  }
 ],
 "metadata": {
  "kernelspec": {
   "display_name": "Python 2",
   "language": "python",
   "name": "python2"
  },
  "language_info": {
   "codemirror_mode": {
    "name": "ipython",
    "version": 2
   },
   "file_extension": ".py",
   "mimetype": "text/x-python",
   "name": "python",
   "nbconvert_exporter": "python",
   "pygments_lexer": "ipython2",
   "version": "2.7.12"
  }
 },
 "nbformat": 4,
 "nbformat_minor": 2
}
