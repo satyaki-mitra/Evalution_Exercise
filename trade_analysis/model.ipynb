{
 "cells": [
  {
   "cell_type": "code",
   "execution_count": 1,
   "metadata": {},
   "outputs": [],
   "source": [
    "import pandas as pd\n",
    "import json\n",
    "import datetime\n",
    "import numpy as np\n",
    "fp = open(\"input_csv/ed_trade_data.json\")\n",
    "jsondata = json.load(fp)\n",
    "pairlist = jsondata.keys()"
   ]
  },
  {
   "cell_type": "code",
   "execution_count": null,
   "metadata": {},
   "outputs": [],
   "source": []
  },
  {
   "cell_type": "code",
   "execution_count": 24,
   "metadata": {},
   "outputs": [],
   "source": [
    "class Pair(object):\n",
    "    def get_name(self, name):\n",
    "        self._name = name\n",
    "        return self._name\n",
    "\n",
    "class Trade(Pair):\n",
    "    \n",
    "    def __init__(self, _dict):\n",
    "        ''' This function takes the trade informations from the dictionary '''\n",
    "        self._date = pd.to_datetime(_dict['date'])\n",
    "        self._price = float(_dict['price'])\n",
    "        self._amount = float(_dict['amount'])\n",
    "        self._amountBase = float(_dict['amountBase'])\n",
    "        self._buyer = str(_dict['buyer'])\n",
    "        self._seller = str(_dict['seller'])\n",
    "        self._side = str(_dict['side'])\n",
    "        self._tokenAddr = str(_dict['tokenAddr'])\n",
    "        self._txHash = str(_dict['txHash'])\n",
    "        \n",
    "    def __repr__(self):\n",
    "        '''This function returns the representation of the Trade class'''\n",
    "        return \"Trade( %s | %f | %f | %f | %s | %s | %s | %s | %s )\" %(self._date, self._amount, self._amountBase, self._price, self._buyer, self._seller, self._side, self._tokenAddr, self._txHash)         \n",
    "    \n"
   ]
  },
  {
   "cell_type": "code",
   "execution_count": 21,
   "metadata": {},
   "outputs": [],
   "source": [
    "x = jsondata['ETH_NEWB'][12]"
   ]
  },
  {
   "cell_type": "code",
   "execution_count": 22,
   "metadata": {},
   "outputs": [
    {
     "data": {
      "text/plain": [
       "Trade( 2017-10-30 07:30:35 | 350.000000 | 0.009450 | 0.000027 | 0x13e2c5f84bce6ff7b9068313b21729dc8fd55d5a | 0xc51a422300dcb1d0b5ed539230e27dc082e7fe99 | sell | 0x814964b1bceaf24e26296d031eadf134a2ca4105 | 0xe9617ca09df6906a985c822c09bbe1a8b78c75846760271e4baa07d7bc0b50b7 )"
      ]
     },
     "execution_count": 22,
     "metadata": {},
     "output_type": "execute_result"
    }
   ],
   "source": [
    "a = Trade(x)\n",
    "a"
   ]
  },
  {
   "cell_type": "code",
   "execution_count": 25,
   "metadata": {},
   "outputs": [
    {
     "ename": "TypeError",
     "evalue": "object() takes no parameters",
     "output_type": "error",
     "traceback": [
      "\u001b[0;31m---------------------------------------------------------------------------\u001b[0m",
      "\u001b[0;31mTypeError\u001b[0m                                 Traceback (most recent call last)",
      "\u001b[0;32m<ipython-input-25-e6c584207102>\u001b[0m in \u001b[0;36m<module>\u001b[0;34m()\u001b[0m\n\u001b[0;32m----> 1\u001b[0;31m \u001b[0mb\u001b[0m \u001b[0;34m=\u001b[0m \u001b[0mPair\u001b[0m\u001b[0;34m(\u001b[0m\u001b[0mpairlist\u001b[0m\u001b[0;34m)\u001b[0m\u001b[0;34m\u001b[0m\u001b[0m\n\u001b[0m",
      "\u001b[0;31mTypeError\u001b[0m: object() takes no parameters"
     ]
    }
   ],
   "source": [
    "b = Pair(pairlist)"
   ]
  },
  {
   "cell_type": "code",
   "execution_count": 6,
   "metadata": {},
   "outputs": [],
   "source": [
    "total_info = []\n",
    "for i in pairlist:\n",
    "    pair_name = Pair().get_name(i)\n",
    "    pair_data = jsondata[str(pair_name)]\n",
    "    for j in pair_data:\n",
    "        trade = Trade(j)\n",
    "        trade_info = (pair_name, trade)\n",
    "        total_info.append(trade_info)\n",
    "#pd.DataFrame(total_info)     "
   ]
  },
  {
   "cell_type": "code",
   "execution_count": null,
   "metadata": {},
   "outputs": [],
   "source": []
  },
  {
   "cell_type": "code",
   "execution_count": null,
   "metadata": {},
   "outputs": [],
   "source": []
  },
  {
   "cell_type": "code",
   "execution_count": 14,
   "metadata": {},
   "outputs": [],
   "source": [
    "class Dict2Obj(object):\n",
    "    def __init__(self, dictionary):\n",
    "        \"\"\"Constructor\"\"\"\n",
    "        for key in dictionary:\n",
    "            setattr(self, str(key), str(dictionary[(key)]))\n"
   ]
  },
  {
   "cell_type": "code",
   "execution_count": 15,
   "metadata": {},
   "outputs": [],
   "source": [
    "a = Dict2Obj(x)"
   ]
  },
  {
   "cell_type": "code",
   "execution_count": 16,
   "metadata": {},
   "outputs": [
    {
     "data": {
      "text/plain": [
       "'0.000027'"
      ]
     },
     "execution_count": 16,
     "metadata": {},
     "output_type": "execute_result"
    }
   ],
   "source": [
    "a.price"
   ]
  },
  {
   "cell_type": "code",
   "execution_count": null,
   "metadata": {},
   "outputs": [],
   "source": []
  },
  {
   "cell_type": "code",
   "execution_count": null,
   "metadata": {},
   "outputs": [],
   "source": []
  }
 ],
 "metadata": {
  "kernelspec": {
   "display_name": "Python 2",
   "language": "python",
   "name": "python2"
  },
  "language_info": {
   "codemirror_mode": {
    "name": "ipython",
    "version": 2
   },
   "file_extension": ".py",
   "mimetype": "text/x-python",
   "name": "python",
   "nbconvert_exporter": "python",
   "pygments_lexer": "ipython2",
   "version": "2.7.12"
  }
 },
 "nbformat": 4,
 "nbformat_minor": 2
}
