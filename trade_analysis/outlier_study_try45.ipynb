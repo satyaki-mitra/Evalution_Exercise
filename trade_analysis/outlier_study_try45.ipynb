{
 "cells": [
  {
   "cell_type": "markdown",
   "metadata": {},
   "source": [
    "Outlier Study\n",
    "========\n",
    "Here we'll first read the csv file containing the top 37 pair of coins as per hourly trades & hence we'll get a list of those pairs. "
   ]
  },
  {
   "cell_type": "code",
   "execution_count": 1,
   "metadata": {},
   "outputs": [],
   "source": [
    "import pandas as pd\n",
    "import json\n",
    "import datetime"
   ]
  },
  {
   "cell_type": "code",
   "execution_count": 2,
   "metadata": {},
   "outputs": [],
   "source": [
    "def data_manipulation(df_in):\n",
    "    ''' This function is for converting object type columns to numeric type columns of the dataframe which is \n",
    "    passed as the argument here and returning the required dataframe with all numeric columns. ''' \n",
    "    \n",
    "    df_in['datetime'] = pd.to_datetime(df_in['date'])\n",
    "    df_in['price'] = df_in['price'].astype(float)\n",
    "    df_in['amount'] = df_in['amount'].astype(float)\n",
    "    df_in['amountBase'] = df_in['amountBase'].astype(float)\n",
    "    required_dataframe = df_in[['datetime', 'amount', 'amountBase', 'price']].set_index('datetime')\n",
    "    return required_dataframe"
   ]
  },
  {
   "cell_type": "code",
   "execution_count": 3,
   "metadata": {},
   "outputs": [],
   "source": [
    "def detect_outlier(input_df, col_name):\n",
    "    ''' This function is taking a dataframe & one of its column as arguments and then calculating the \n",
    "    1st and 3rd quartiles. iqr is the variable where it's calculating the Inter Quartile Range and hence \n",
    "    it's calculating the upper and lower bound and checking  whether all the values of that particular\n",
    "    column belongs withing that boundary. df_out is returning the values which are out of the range. '''\n",
    "    \n",
    "    q1 = input_df[col_name].quantile(0.25)\n",
    "    q3 = input_df[col_name].quantile(0.75)\n",
    "    iqr = (q3 - q1) #Interquartile range\n",
    "    lower_bound = q1 - (1.5 * iqr)\n",
    "    upper_bound = q3 + (1.5 * iqr)\n",
    "    df_out = input_df[(input_df[col_name] < lower_bound) | (input_df[col_name] > upper_bound)]\n",
    "    return df_out"
   ]
  },
  {
   "cell_type": "code",
   "execution_count": 4,
   "metadata": {},
   "outputs": [],
   "source": [
    "summary = []\n",
    "def summary_of_outliers(input_data1, input_data2):\n",
    "    ''' This function is determining the summary of the outliers. For that it's first determining the shape\n",
    "    of the actual dataframe and the dataframe of outliers which are passed as arguments in this. Then it's \n",
    "    determining the row numbers in order to get the row numbers of those two dataframes. Then it's calculating\n",
    "    the relative percentage of the outliers in the dataframe for each pair of coins and appending it in a list \n",
    "    named \"summary\" and reurning this list. '''\n",
    "    \n",
    "    row1, col1 = input_data1.shape\n",
    "    total_data = row1\n",
    "    row2, col2 = input_data2.shape\n",
    "    outliers_in_data = row2\n",
    "    percentage_of_outliers = (float(row2)/float(row1))*100\n",
    "    output = [i, total_data, outliers_in_data, percentage_of_outliers]\n",
    "    summary.append(output)\n",
    "    return summary"
   ]
  },
  {
   "cell_type": "code",
   "execution_count": 5,
   "metadata": {},
   "outputs": [],
   "source": [
    "top_hourly_traded_pairs = pd.read_csv('output_files/initial_study/top_hourly_traded_pairs.csv')\n",
    "pair_list = list(top_hourly_traded_pairs['pair'])\n",
    "fp = open(\"input_csv/ed_trade_data.json\")\n",
    "trade_db = json.load(fp)\n",
    "for i in pair_list:\n",
    "    trade_data = trade_db[i]\n",
    "    trade_dataframe = pd.DataFrame(trade_data)\n",
    "    manipulated_data = data_manipulation(trade_dataframe)\n",
    "    outliers = detect_outlier(manipulated_data, 'price')\n",
    "    outliers.to_csv('output_files/outlier_study/OutlierReport_'+i+'.csv')\n",
    "    outlier_summary = summary_of_outliers(manipulated_data, outliers)\n",
    "    \n",
    "report = pd.DataFrame(outlier_summary)\n",
    "report.columns = ['pair', 'total_data', 'outliers_in_data', '%_of_outliers']\n",
    "outlier_summary_report = report.sort_values(by = ['%_of_outliers'], ascending = True).set_index('pair')\n",
    "outlier_summary_report.to_csv('output_files/outlier_study/outlier_summary_report.csv')"
   ]
  },
  {
   "cell_type": "code",
   "execution_count": null,
   "metadata": {},
   "outputs": [],
   "source": []
  },
  {
   "cell_type": "code",
   "execution_count": null,
   "metadata": {},
   "outputs": [],
   "source": []
  }
 ],
 "metadata": {
  "kernelspec": {
   "display_name": "Python 2",
   "language": "python",
   "name": "python2"
  },
  "language_info": {
   "codemirror_mode": {
    "name": "ipython",
    "version": 2
   },
   "file_extension": ".py",
   "mimetype": "text/x-python",
   "name": "python",
   "nbconvert_exporter": "python",
   "pygments_lexer": "ipython2",
   "version": "2.7.12"
  }
 },
 "nbformat": 4,
 "nbformat_minor": 2
}
