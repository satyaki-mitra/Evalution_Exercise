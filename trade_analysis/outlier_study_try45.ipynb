{
 "cells": [
  {
   "cell_type": "markdown",
   "metadata": {},
   "source": [
    "Outlier Study\n",
    "========\n",
    "Here we'll first read the csv file containing the top 37 pair of coins as per hourly trades & hence we'll get a list of those pairs. "
   ]
  },
  {
   "cell_type": "code",
   "execution_count": null,
   "metadata": {},
   "outputs": [],
   "source": [
    "import pandas as pd\n",
    "import json\n",
    "import datetime"
   ]
  },
  {
   "cell_type": "code",
   "execution_count": null,
   "metadata": {},
   "outputs": [],
   "source": [
    "fp = open(\"input_csv/ed_trade_data.json\")\n",
    "TradeDb = json.load(fp)"
   ]
  },
  {
   "cell_type": "code",
   "execution_count": null,
   "metadata": {},
   "outputs": [],
   "source": [
    "def DataManipulation(df_in):\n",
    "    ''' This function is for converting object type columns to numeric type columns of the dataframe which is \n",
    "    passed as the argument here and returning the required dataframe with all numeric columns. ''' \n",
    "    \n",
    "    df_in['datetime'] = pd.to_datetime(df_in['date'])\n",
    "    df_in['price'] = df_in['price'].astype(float)\n",
    "    df_in['amount'] = df_in['amount'].astype(float)\n",
    "    df_in['amountBase'] = df_in['amountBase'].astype(float)\n",
    "    required_dataframe = df_in[['datetime', 'amount', 'amountBase', 'price']].set_index('datetime')\n",
    "    return required_dataframe"
   ]
  },
  {
   "cell_type": "code",
   "execution_count": null,
   "metadata": {},
   "outputs": [],
   "source": [
    "def DetectOutlier(input_df, col_name):\n",
    "    ''' This function is taking a dataframe & one of its column as arguments and then calculating the \n",
    "    1st and 3rd quartiles. iqr is the variable where it's calculating the Inter Quartile Range and hence \n",
    "    it's calculating the upper and lower bound and checking  whether all the values of that particular\n",
    "    column belongs withing that boundary. df_out is returning the values which are out of the range. '''\n",
    "    \n",
    "    q1 = input_df[col_name].quantile(0.25)\n",
    "    q3 = input_df[col_name].quantile(0.75)\n",
    "    iqr = (q3 - q1) #Interquartile range\n",
    "    lower_bound = q1 - (1.5 * iqr)\n",
    "    upper_bound = q3 + (1.5 * iqr)\n",
    "    df_out = input_df[(input_df[col_name] < lower_bound) | (input_df[col_name] > upper_bound)]\n",
    "    return df_out"
   ]
  },
  {
   "cell_type": "code",
   "execution_count": null,
   "metadata": {},
   "outputs": [],
   "source": [
    "def ProcessPairlist(database, next_pair):\n",
    "    ''' This function is taking a database and one of the top traded pairs as arguments and then calling\n",
    "    another function DataManipulation to make the readymade dataframe and then calling another function \n",
    "    DetectOutliers that takes the resultant dataframe as the argument of the previous function to detect \n",
    "    the outliers in that dataframe. '''\n",
    "    TradeData = database[next_pair]\n",
    "    TradeDataframe = pd.DataFrame(TradeData)\n",
    "    manipulated_data = DataManipulation(TradeDataframe)\n",
    "    outliers = DetectOutlier(manipulated_data, 'price')\n",
    "    outliers.to_csv('output_files/outlier_study/OutlierReport_'+ next_pair +'.csv')\n",
    "    return outliers"
   ]
  },
  {
   "cell_type": "code",
   "execution_count": null,
   "metadata": {},
   "outputs": [],
   "source": [
    "def PrepareSummary(pair_list, outlier_files_path, database):\n",
    "    ''' This function is determining the percentage of the outliers. For that it's first determining the shape\n",
    "    of the actual dataframe and the dataframe of outliers, the list of pairs is passed as arguments in this. \n",
    "    Then it's determining amount of data of those two dataframes. Then it's calculating the relative percentage \n",
    "    of the outliers in the dataframe for each pair of coins and reurning a dataframe containing the summary. '''\n",
    "   \n",
    "    info_of_outliers = []\n",
    "    for p in pair_list:\n",
    "        trade_data = database[p]\n",
    "        trade_dataframe = pd.DataFrame(trade_data)\n",
    "        row1, col1 = trade_dataframe.shape\n",
    "        outlier_data = pd.read_csv(outlier_files_path + p +'.csv')\n",
    "        outlier_dataframe = pd.DataFrame(outlier_data)\n",
    "        row2, col2 = outlier_dataframe.shape\n",
    "        relative_percentage = (float(row2)/float(row1)) * 100\n",
    "        summary1 = [p, row1, row2, relative_percentage]\n",
    "        info_of_outliers.append(summary1)\n",
    "    report_of_outliers = pd.DataFrame(info_of_outliers).sort_values(by = 2)\n",
    "    report_of_outliers.columns = ['pair', 'total_data', 'outliers_in_data', '%_of_outliers']\n",
    "    summary_report = report_of_outliers.set_index('pair')\n",
    "    return summary_report"
   ]
  },
  {
   "cell_type": "code",
   "execution_count": null,
   "metadata": {},
   "outputs": [],
   "source": [
    "top_hourly_traded_pairs = pd.read_csv('output_files/initial_study/top_hourly_traded_pairs.csv')\n",
    "PairList = list(top_hourly_traded_pairs['pair'])\n",
    "for pair in PairList:\n",
    "    ProcessPairlist (TradeDb, PairList)\n",
    "\n",
    "outlier_files_path = output_files/outlier_study/OutlierReport_\n",
    "summary_report = PrepareSummary(PairList, outlier_files_path, TradeDb)\n",
    "summary_report"
   ]
  },
  {
   "cell_type": "code",
   "execution_count": null,
   "metadata": {},
   "outputs": [],
   "source": [
    " "
   ]
  }
 ],
 "metadata": {
  "kernelspec": {
   "display_name": "Python 2",
   "language": "python",
   "name": "python2"
  },
  "language_info": {
   "codemirror_mode": {
    "name": "ipython",
    "version": 2
   },
   "file_extension": ".py",
   "mimetype": "text/x-python",
   "name": "python",
   "nbconvert_exporter": "python",
   "pygments_lexer": "ipython2",
   "version": "2.7.12"
  }
 },
 "nbformat": 4,
 "nbformat_minor": 2
}
