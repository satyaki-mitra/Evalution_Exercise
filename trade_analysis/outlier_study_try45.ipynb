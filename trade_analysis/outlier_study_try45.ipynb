{
 "cells": [
  {
   "cell_type": "markdown",
   "metadata": {},
   "source": [
    "Outlier Study\n",
    "========\n",
    "Here we'll first read the csv file containing the top 37 pair of coins as per hourly trades & hence we'll get a list of those pairs. "
   ]
  },
  {
   "cell_type": "code",
   "execution_count": 1,
   "metadata": {},
   "outputs": [],
   "source": [
    "import pandas as pd\n",
    "import json\n",
    "import datetime\n",
    "import numpy as np"
   ]
  },
  {
   "cell_type": "code",
   "execution_count": 2,
   "metadata": {},
   "outputs": [],
   "source": [
    "fp = open(\"input_csv/ed_trade_data.json\")\n",
    "TradeDb = json.load(fp)"
   ]
  },
  {
   "cell_type": "code",
   "execution_count": 3,
   "metadata": {},
   "outputs": [],
   "source": [
    "def DataManipulation(df_in):\n",
    "    ''' This function is for converting object type columns to numeric type columns of the dataframe which is \n",
    "    passed as the argument here and returning the required dataframe with all numeric columns. ''' \n",
    "    \n",
    "    df_in['datetime'] = pd.to_datetime(df_in['date'])\n",
    "    df_in['price'] = df_in['price'].astype(float)\n",
    "    df_in['amount'] = df_in['amount'].astype(float)\n",
    "    df_in['amountBase'] = df_in['amountBase'].astype(float)\n",
    "    required_dataframe = df_in[['datetime', 'amount', 'amountBase', 'price']].set_index('datetime')\n",
    "    return required_dataframe"
   ]
  },
  {
   "cell_type": "code",
   "execution_count": null,
   "metadata": {},
   "outputs": [],
   "source": [
    "def DetectOutlier(input_df, col_name):\n",
    "    ''' This function is taking a dataframe & one of its column as arguments and then calculating the \n",
    "    1st and 3rd quartiles. iqr is the variable where it's calculating the Inter Quartile Range and hence \n",
    "    it's calculating the upper and lower bound and checking  whether all the values of that particular\n",
    "    column belongs withing that boundary. df_out is returning the values which are out of the range. '''\n",
    "    \n",
    "    q1 = input_df[col_name].quantile(0.25)\n",
    "    q3 = input_df[col_name].quantile(0.75)\n",
    "    iqr = (q3 - q1) #Interquartile range\n",
    "    lower_bound = q1 - (1.5 * iqr)\n",
    "    upper_bound = q3 + (1.5 * iqr)\n",
    "    df_out = input_df[(input_df[col_name] < lower_bound) | (input_df[col_name] > upper_bound)]\n",
    "    return df_out"
   ]
  },
  {
   "cell_type": "code",
   "execution_count": null,
   "metadata": {},
   "outputs": [],
   "source": [
    "def ProcessPairlist(data, pair_name):\n",
    "    ''' This function is taking a dictionary and one of the top traded pair name as arguments and then calling\n",
    "    another function DataManipulation to make the readymade dataframe and then calling another function \n",
    "    DetectOutliers that takes the resultant dataframe as the argument of the previous function to detect \n",
    "    the outliers in that dataframe. '''\n",
    "    \n",
    "    TradeDataframe = pd.DataFrame(data)\n",
    "    manipulated_data = DataManipulation(TradeDataframe)\n",
    "    outliers = DetectOutlier(manipulated_data, 'price')\n",
    "    outliers.to_csv('output_files/outlier_study/OutlierReport_'+ pair_name +'.csv')\n",
    "    summary = [pair_name] + PrepareSummary(TradeDataframe, outliers)\n",
    "    return summary"
   ]
  },
  {
   "cell_type": "code",
   "execution_count": null,
   "metadata": {},
   "outputs": [],
   "source": [
    "def PrepareSummary(df1, df2):\n",
    "    ''' This function is determining the percentage of the outliers. For that it's first determining the shape\n",
    "    of df1 and the df2 which are passed as arguments in this. Then it's determining amount of data of those two\n",
    "    dataframes. Then it's calculating the relative percentage of the outliers in the dataframe for each pair of \n",
    "    coins and reurning a list of the summary. '''\n",
    "   \n",
    "    row1, col1 = df1.shape\n",
    "    row2, col2 = df2.shape\n",
    "    relative_percentage = (float(row2)/float(row1)) * 100\n",
    "    summary = [row1, row2, relative_percentage]\n",
    "    return summary"
   ]
  },
  {
   "cell_type": "code",
   "execution_count": null,
   "metadata": {},
   "outputs": [],
   "source": [
    "def ReportMaking(summary_list, old_report):\n",
    "    ''' This function is taking the list of summary of outliers as argument and producting a well formated \n",
    "    Dataframe containing summary of Outliers.'''\n",
    "    \n",
    "    report = pd.DataFrame(summary_list).sort_values(by = 2)\n",
    "    report.columns = ['pair', 'total_data', 'outliers_in_data', '%_of_outliers']\n",
    "    initial_report = old_report[['pair', 'min_date', 'max_date', 'total_time', 'no_of_trades', 'avg_hourly_trades', 'volume_traded', 'total_turnover', 'avg_price_of_unit_volume']]\n",
    "    summary_report = pd.merge(initial_report, report, how = 'left', left_on = 'pair', right_on = 'pair')\n",
    "    final_report = summary_report.set_index('pair').sort_values(by = '%_of_outliers')\n",
    "    return final_report"
   ]
  },
  {
   "cell_type": "code",
   "execution_count": null,
   "metadata": {},
   "outputs": [],
   "source": [
    "top_hourly_traded_pairs = pd.read_csv('output_files/initial_study/top_hourly_traded_pairs.csv')\n",
    "PairList = list(top_hourly_traded_pairs['pair'])\n",
    "info_outliers = []\n",
    "for pair in PairList:\n",
    "    \n",
    "    TradeData = TradeDb[pair]\n",
    "    SummaryOutliers = ProcessPairlist(TradeData, pair)\n",
    "    info_outliers.append(SummaryOutliers)\n",
    "\n",
    "SummaryReport = ReportMaking(info_outliers, top_hourly_traded_pairs)\n",
    "SummaryReport"
   ]
  },
  {
   "cell_type": "code",
   "execution_count": null,
   "metadata": {},
   "outputs": [],
   "source": []
  },
  {
   "cell_type": "code",
   "execution_count": null,
   "metadata": {},
   "outputs": [],
   "source": [
    "x = pd.DataFrame(TradeDb['ETH_0x4dc3'])\n",
    "y = DataManipulation(x)\n",
    "p = y['price'].quantile(0.25)\n",
    "q = y['price'].quantile(0.75)\n",
    "p,q"
   ]
  },
  {
   "cell_type": "code",
   "execution_count": null,
   "metadata": {},
   "outputs": [],
   "source": [
    "def GetStudyData(TradeData):\n",
    "    \n",
    "    q1 = TradeData.price.quantile(0.25)\n",
    "    q3 = TradeData.price.quantile(0.75)\n",
    "    if (TradeData.price < q1):\n",
    "        TradeData.price = q1\n",
    "        TradeData.amountBase = TradeData.amount * q1\n",
    "    elif (TradeData.price > q3):\n",
    "        TradeData.price = q3\n",
    "        TradeData.amountBase = TradeData.amount * q3\n",
    "    return TradeData"
   ]
  },
  {
   "cell_type": "code",
   "execution_count": null,
   "metadata": {},
   "outputs": [],
   "source": [
    "z = GetStudyData(y)\n",
    "z"
   ]
  },
  {
   "cell_type": "code",
   "execution_count": null,
   "metadata": {},
   "outputs": [],
   "source": []
  },
  {
   "cell_type": "code",
   "execution_count": null,
   "metadata": {},
   "outputs": [],
   "source": []
  }
 ],
 "metadata": {
  "kernelspec": {
   "display_name": "Python 2",
   "language": "python",
   "name": "python2"
  },
  "language_info": {
   "codemirror_mode": {
    "name": "ipython",
    "version": 2
   },
   "file_extension": ".py",
   "mimetype": "text/x-python",
   "name": "python",
   "nbconvert_exporter": "python",
   "pygments_lexer": "ipython2",
   "version": "2.7.12"
  }
 },
 "nbformat": 4,
 "nbformat_minor": 2
}
