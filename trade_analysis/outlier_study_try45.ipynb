{
 "cells": [
  {
   "cell_type": "markdown",
   "metadata": {},
   "source": [
    "outlier study\n",
    "========\n",
    "Here we'll first read the csv file containing the top 37 pair of coins as per hourly trades & hence we'll get a list of those pairs. "
   ]
  },
  {
   "cell_type": "code",
   "execution_count": null,
   "metadata": {},
   "outputs": [],
   "source": [
    "import pandas as pd\n",
    "import json\n",
    "import datetime"
   ]
  },
  {
   "cell_type": "code",
   "execution_count": null,
   "metadata": {},
   "outputs": [],
   "source": [
    "def data_manipulation(df_in):\n",
    "    trade_data1 = data2[df_in]\n",
    "    trade_data = pd.DataFrame(trade_data1)\n",
    "    trade_data['datetime'] = pd.to_datetime(trade_data['date'])\n",
    "    trade_data['price'] = trade_data['price'].astype(float)\n",
    "    trade_data['amount'] = trade_data['amount'].astype(float)\n",
    "    trade_data['amountBase'] = trade_data['amountBase'].astype(float)\n",
    "    dataframe = trade_data[['datetime', 'amount', 'amountBase', 'price']].set_index('datetime')\n",
    "    return dataframe"
   ]
  },
  {
   "cell_type": "code",
   "execution_count": null,
   "metadata": {},
   "outputs": [],
   "source": [
    "def detect_outlier(input_df, col_name):\n",
    "    q1 = input_df[col_name].quantile(0.25)\n",
    "    q3 = input_df[col_name].quantile(0.75)\n",
    "    iqr = q3 - q1 #Interquartile range\n",
    "    lower_bound = q1 - 1.5 * iqr\n",
    "    upper_bound = q3 + 1.5 * iqr\n",
    "    df_out = input_df[(input_df[col_name] < lower_bound) | (input_df[col_name] > upper_bound)]\n",
    "    row1, col1 = df_out.shape\n",
    "    total_data = row1\n",
    "    return df_out"
   ]
  },
  {
   "cell_type": "code",
   "execution_count": null,
   "metadata": {},
   "outputs": [],
   "source": [
    "l = []\n",
    "def output_file(input_data):\n",
    "    row1, col1 = data.shape\n",
    "    total_data = row1\n",
    "    row2, col2 = outliers.shape\n",
    "    outliers_in_data = row2\n",
    "    percentage_of_outliers = (float(row2)/float(row1))*100\n",
    "    output = [i, total_data, outliers_in_data, percentage_of_outliers]\n",
    "    l.append(output)\n",
    "    return l"
   ]
  },
  {
   "cell_type": "code",
   "execution_count": null,
   "metadata": {},
   "outputs": [],
   "source": [
    "data1 = pd.read_csv('output_files/initial_study/top__daily_traded_pairs.csv')\n",
    "pairs = list(data1['pair'])\n",
    "pair_iter = iter(pairs)\n",
    "for i in pairs:\n",
    "    fp = open(\"input_csv/ed_trade_data.json\")\n",
    "    data2 = json.load(fp)\n",
    "    data = data_manipulation(i)\n",
    "    outliers = detect_outlier(data, 'price')\n",
    "    #outliers.to_csv('output_files/outlier_study/outliers_'+i+'.csv')\n",
    "    output_data = output_file(outliers)\n",
    "report = pd.DataFrame(output_data)\n",
    "report.columns = ['pair', 'total_data', 'outliers_in_data', '%_of_outliers']\n",
    "outlier_report = report.sort_values(by = ['%_of_outliers'], ascending = True).set_index('pair')\n",
    "outlier_report"
   ]
  },
  {
   "cell_type": "code",
   "execution_count": null,
   "metadata": {},
   "outputs": [],
   "source": [
    "outlier_report.to_csv('output_files/outlier_study/outlier_report.csv')"
   ]
  },
  {
   "cell_type": "code",
   "execution_count": null,
   "metadata": {},
   "outputs": [],
   "source": []
  }
 ],
 "metadata": {
  "kernelspec": {
   "display_name": "Python 2",
   "language": "python",
   "name": "python2"
  },
  "language_info": {
   "codemirror_mode": {
    "name": "ipython",
    "version": 2
   },
   "file_extension": ".py",
   "mimetype": "text/x-python",
   "name": "python",
   "nbconvert_exporter": "python",
   "pygments_lexer": "ipython2",
   "version": "2.7.12"
  }
 },
 "nbformat": 4,
 "nbformat_minor": 2
}
