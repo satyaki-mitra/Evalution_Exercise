{
 "cells": [
  {
   "cell_type": "markdown",
   "metadata": {},
   "source": [
    "Outlier Study\n",
    "========\n",
    "Here we'll first read the csv file containing the top 37 pair of coins as per hourly trades & hence we'll get a list of those pairs. "
   ]
  },
  {
   "cell_type": "code",
   "execution_count": 1,
   "metadata": {},
   "outputs": [],
   "source": [
    "import pandas as pd\n",
    "import json\n",
    "import datetime"
   ]
  },
  {
   "cell_type": "code",
   "execution_count": 2,
   "metadata": {},
   "outputs": [],
   "source": [
    "fp = open(\"input_csv/ed_trade_data.json\")\n",
    "TradeDb = json.load(fp)"
   ]
  },
  {
   "cell_type": "code",
   "execution_count": 3,
   "metadata": {},
   "outputs": [],
   "source": [
    "def DataManipulation(df_in):\n",
    "    ''' This function is for converting object type columns to numeric type columns of the dataframe which is \n",
    "    passed as the argument here and returning the required dataframe with all numeric columns. ''' \n",
    "    \n",
    "    df_in['datetime'] = pd.to_datetime(df_in['date'])\n",
    "    df_in['price'] = df_in['price'].astype(float)\n",
    "    df_in['amount'] = df_in['amount'].astype(float)\n",
    "    df_in['amountBase'] = df_in['amountBase'].astype(float)\n",
    "    required_dataframe = df_in[['datetime', 'amount', 'amountBase', 'price']].set_index('datetime')\n",
    "    return required_dataframe"
   ]
  },
  {
   "cell_type": "code",
   "execution_count": 4,
   "metadata": {},
   "outputs": [],
   "source": [
    "def DetectOutlier(input_df, col_name):\n",
    "    ''' This function is taking a dataframe & one of its column as arguments and then calculating the \n",
    "    1st and 3rd quartiles. iqr is the variable where it's calculating the Inter Quartile Range and hence \n",
    "    it's calculating the upper and lower bound and checking  whether all the values of that particular\n",
    "    column belongs withing that boundary. df_out is returning the values which are out of the range. '''\n",
    "    \n",
    "    q1 = input_df[col_name].quantile(0.25)\n",
    "    q3 = input_df[col_name].quantile(0.75)\n",
    "    iqr = (q3 - q1) #Interquartile range\n",
    "    lower_bound = q1 - (1.5 * iqr)\n",
    "    upper_bound = q3 + (1.5 * iqr)\n",
    "    df_out = input_df[(input_df[col_name] < lower_bound) | (input_df[col_name] > upper_bound)]\n",
    "    return df_out"
   ]
  },
  {
   "cell_type": "code",
   "execution_count": 5,
   "metadata": {},
   "outputs": [],
   "source": [
    "def ProcessPairlist(data, next_pair):\n",
    "    ''' This function is taking a dictionary and one of the top traded pair name as arguments and then calling\n",
    "    another function DataManipulation to make the readymade dataframe and then calling another function \n",
    "    DetectOutliers that takes the resultant dataframe as the argument of the previous function to detect \n",
    "    the outliers in that dataframe. '''\n",
    "    \n",
    "    TradeDataframe = pd.DataFrame(data)\n",
    "    manipulated_data = DataManipulation(TradeDataframe)\n",
    "    outliers = DetectOutlier(manipulated_data, 'price')\n",
    "    outliers.to_csv('output_files/outlier_study/OutlierReport_'+ next_pair +'.csv')\n",
    "    return outliers"
   ]
  },
  {
   "cell_type": "code",
   "execution_count": 6,
   "metadata": {},
   "outputs": [],
   "source": [
    "def PrepareSummary(data1, outlier_dataframe):\n",
    "    ''' This function is determining the percentage of the outliers. For that it's first determining the shape\n",
    "    of the actual dataframe and the dataframe of outliers which are passed as arguments in this. \n",
    "    Then it's determining amount of data of those two dataframes. Then it's calculating the relative percentage \n",
    "    of the outliers in the dataframe for each pair of coins and reurning a dataframe containing the summary. '''\n",
    "   \n",
    "    trade_dataframe = pd.DataFrame(data1)\n",
    "    row1, col1 = trade_dataframe.shape\n",
    "    row2, col2 = outlier_dataframe.shape\n",
    "    relative_percentage = (float(row2)/float(row1)) * 100\n",
    "    summary = [row1, row2, relative_percentage]\n",
    "    return summary"
   ]
  },
  {
   "cell_type": "code",
   "execution_count": 7,
   "metadata": {},
   "outputs": [],
   "source": [
    "def ReportMaking(summary_list, old_report):\n",
    "    ''' This function is taking the list of summary of outliers as argument and producting a well formated \n",
    "    Dataframe containing summary of Outliers.'''\n",
    "    \n",
    "    report = pd.DataFrame(summary_list).sort_values(by = 2)\n",
    "    report.columns = ['pair', 'total_data', 'outliers_in_data', '%_of_outliers']\n",
    "    initial_report = old_report[['pair', 'min_date', 'max_date', 'no_of_trades', 'total_time', 'avg_hourly_trades', 'volume_traded', 'total_turnover', 'avg_price_of_unit_volume']]\n",
    "    summary_report = pd.merge(initial_report, report, how = 'left', left_on = 'pair', right_on = 'pair')\n",
    "    final_report = summary_report.set_index['pair']\n",
    "    return final_report"
   ]
  },
  {
   "cell_type": "code",
   "execution_count": 8,
   "metadata": {},
   "outputs": [
    {
     "ename": "NameError",
     "evalue": "global name 'initial_report' is not defined",
     "output_type": "error",
     "traceback": [
      "\u001b[0;31m---------------------------------------------------------------------------\u001b[0m",
      "\u001b[0;31mNameError\u001b[0m                                 Traceback (most recent call last)",
      "\u001b[0;32m<ipython-input-8-2918b55de1ef>\u001b[0m in \u001b[0;36m<module>\u001b[0;34m()\u001b[0m\n\u001b[1;32m      8\u001b[0m     \u001b[0minfo_outliers\u001b[0m\u001b[0;34m.\u001b[0m\u001b[0mappend\u001b[0m\u001b[0;34m(\u001b[0m\u001b[0mSummaryOutliers\u001b[0m\u001b[0;34m)\u001b[0m\u001b[0;34m\u001b[0m\u001b[0m\n\u001b[1;32m      9\u001b[0m \u001b[0;34m\u001b[0m\u001b[0m\n\u001b[0;32m---> 10\u001b[0;31m \u001b[0mSummaryReport\u001b[0m \u001b[0;34m=\u001b[0m \u001b[0mReportMaking\u001b[0m\u001b[0;34m(\u001b[0m\u001b[0minfo_outliers\u001b[0m\u001b[0;34m,\u001b[0m \u001b[0mtop_hourly_traded_pairs\u001b[0m\u001b[0;34m)\u001b[0m\u001b[0;34m\u001b[0m\u001b[0m\n\u001b[0m\u001b[1;32m     11\u001b[0m \u001b[0mSummaryReport\u001b[0m\u001b[0;34m\u001b[0m\u001b[0m\n",
      "\u001b[0;32m<ipython-input-7-e390a17211a1>\u001b[0m in \u001b[0;36mReportMaking\u001b[0;34m(summary_list, old_report)\u001b[0m\n\u001b[1;32m      6\u001b[0m     \u001b[0mreport\u001b[0m\u001b[0;34m.\u001b[0m\u001b[0mcolumns\u001b[0m \u001b[0;34m=\u001b[0m \u001b[0;34m[\u001b[0m\u001b[0;34m'pair'\u001b[0m\u001b[0;34m,\u001b[0m \u001b[0;34m'total_data'\u001b[0m\u001b[0;34m,\u001b[0m \u001b[0;34m'outliers_in_data'\u001b[0m\u001b[0;34m,\u001b[0m \u001b[0;34m'%_of_outliers'\u001b[0m\u001b[0;34m]\u001b[0m\u001b[0;34m\u001b[0m\u001b[0m\n\u001b[1;32m      7\u001b[0m     \u001b[0minital_report\u001b[0m \u001b[0;34m=\u001b[0m \u001b[0mold_report\u001b[0m\u001b[0;34m[\u001b[0m\u001b[0;34m[\u001b[0m\u001b[0;34m'pair'\u001b[0m\u001b[0;34m,\u001b[0m \u001b[0;34m'min_date'\u001b[0m\u001b[0;34m,\u001b[0m \u001b[0;34m'max_date'\u001b[0m\u001b[0;34m,\u001b[0m \u001b[0;34m'no_of_trades'\u001b[0m\u001b[0;34m,\u001b[0m \u001b[0;34m'total_time'\u001b[0m\u001b[0;34m,\u001b[0m \u001b[0;34m'avg_hourly_trades'\u001b[0m\u001b[0;34m,\u001b[0m \u001b[0;34m'volume_traded'\u001b[0m\u001b[0;34m,\u001b[0m \u001b[0;34m'total_turnover'\u001b[0m\u001b[0;34m,\u001b[0m \u001b[0;34m'avg_price_of_unit_volume'\u001b[0m\u001b[0;34m]\u001b[0m\u001b[0;34m]\u001b[0m\u001b[0;34m\u001b[0m\u001b[0m\n\u001b[0;32m----> 8\u001b[0;31m     \u001b[0msummary_report\u001b[0m \u001b[0;34m=\u001b[0m \u001b[0mpd\u001b[0m\u001b[0;34m.\u001b[0m\u001b[0mmerge\u001b[0m\u001b[0;34m(\u001b[0m\u001b[0minitial_report\u001b[0m\u001b[0;34m,\u001b[0m \u001b[0mreport\u001b[0m\u001b[0;34m,\u001b[0m \u001b[0mhow\u001b[0m \u001b[0;34m=\u001b[0m \u001b[0;34m'left'\u001b[0m\u001b[0;34m,\u001b[0m \u001b[0mleft_on\u001b[0m \u001b[0;34m=\u001b[0m \u001b[0;34m'pair'\u001b[0m\u001b[0;34m,\u001b[0m \u001b[0mright_on\u001b[0m \u001b[0;34m=\u001b[0m \u001b[0;34m'pair'\u001b[0m\u001b[0;34m)\u001b[0m\u001b[0;34m\u001b[0m\u001b[0m\n\u001b[0m\u001b[1;32m      9\u001b[0m     \u001b[0mfinal_report\u001b[0m \u001b[0;34m=\u001b[0m \u001b[0msummary_report\u001b[0m\u001b[0;34m.\u001b[0m\u001b[0mset_index\u001b[0m\u001b[0;34m[\u001b[0m\u001b[0;34m'pair'\u001b[0m\u001b[0;34m]\u001b[0m\u001b[0;34m\u001b[0m\u001b[0m\n\u001b[1;32m     10\u001b[0m     \u001b[0;32mreturn\u001b[0m \u001b[0mfinal_report\u001b[0m\u001b[0;34m\u001b[0m\u001b[0m\n",
      "\u001b[0;31mNameError\u001b[0m: global name 'initial_report' is not defined"
     ]
    }
   ],
   "source": [
    "top_hourly_traded_pairs = pd.read_csv('output_files/initial_study/top_hourly_traded_pairs.csv')\n",
    "PairList = list(top_hourly_traded_pairs['pair'])\n",
    "info_outliers = []\n",
    "for pair in PairList:\n",
    "    TradeData = TradeDb[pair]\n",
    "    OutlierData = ProcessPairlist(TradeData, pair)\n",
    "    SummaryOutliers = [pair] + PrepareSummary(TradeData, OutlierData)\n",
    "    info_outliers.append(SummaryOutliers)\n",
    "\n",
    "SummaryReport = ReportMaking(info_outliers, top_hourly_traded_pairs)\n",
    "SummaryReport"
   ]
  },
  {
   "cell_type": "code",
   "execution_count": null,
   "metadata": {},
   "outputs": [],
   "source": [
    "a = top_hourly_traded_pairs[['pair', 'min_date', 'max_date', 'no_of_trades', 'total_time', 'avg_hourly_trades', 'volume_traded', 'total_turnover', 'avg_price_of_unit_volume']]\n",
    "b = pd.read_csv('output_files/outlier_study/Outlier_Summary_report.csv')\n",
    "c = pd.merge(a,b, how = 'left', left_on = 'pair', right_on = 'pair')\n",
    "c"
   ]
  },
  {
   "cell_type": "code",
   "execution_count": null,
   "metadata": {},
   "outputs": [],
   "source": []
  }
 ],
 "metadata": {
  "kernelspec": {
   "display_name": "Python 2",
   "language": "python",
   "name": "python2"
  },
  "language_info": {
   "codemirror_mode": {
    "name": "ipython",
    "version": 2
   },
   "file_extension": ".py",
   "mimetype": "text/x-python",
   "name": "python",
   "nbconvert_exporter": "python",
   "pygments_lexer": "ipython2",
   "version": "2.7.12"
  }
 },
 "nbformat": 4,
 "nbformat_minor": 2
}
