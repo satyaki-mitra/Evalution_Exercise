{
 "cells": [
  {
   "cell_type": "code",
   "execution_count": null,
   "metadata": {},
   "outputs": [],
   "source": [
    "import json\n",
    "import pandas as pd\n",
    "import numpy as np\n",
    "from pprint import pprint\n",
    "import datetime\n",
    "data = open(\"input_csv/ed_trade_data.json\")\n",
    "data = json.load(data)"
   ]
  },
  {
   "cell_type": "code",
   "execution_count": null,
   "metadata": {
    "scrolled": false
   },
   "outputs": [],
   "source": [
    "l = list(data.keys())\n",
    "l2 = []\n",
    "for i in l:\n",
    "    x_i = data[i]\n",
    "    df_i =  pd.DataFrame(x_i)\n",
    "    df_i['datetime'] = pd.to_datetime(df_i['date'])\n",
    "    df_i['price'] = df_i['price'].astype(float)\n",
    "    df_i['amount'] = df_i['amount'].astype(float)\n",
    "    df_i['amountBase'] = df_i['amountBase'].astype(float)\n",
    "    df = df_i[['datetime', 'amount', 'amountBase', 'price']].set_index('datetime')\n",
    "    pair = i\n",
    "    row, col = df_i.shape\n",
    "    maxdate = df.index.max()\n",
    "    mindate = df.index.min()\n",
    "    total_days = (maxdate - mindate).days\n",
    "    total_seconds = (np.datetime64(maxdate) - np.datetime64(mindate)).item().total_seconds()\n",
    "    total_hours = (total_seconds / 3600)\n",
    "    grouped = df.groupby(lambda x : x.month)\n",
    "    grouped.index = 'month'\n",
    "    no_of_trades = (grouped['amount'].count())\n",
    "    a = grouped['amount'].sum()\n",
    "    b = grouped['amountBase'].sum()\n",
    "    c = (b / a)\n",
    "    if (total_days != 0):\n",
    "        daily_trades_average = sum(no_of_trades) / (total_days)\n",
    "    else:\n",
    "        daily_trades_average = 0\n",
    "    avg_hourly_trades = (sum(no_of_trades) / total_hours)\n",
    "    result = [pair, row, sum(no_of_trades), str(datetime.timedelta(seconds=total_seconds)), avg_hourly_trades, mindate, maxdate, sum(a), sum(b), (sum(c)/len(c)), total_days]\n",
    "    l2.append(result)\n",
    "output = pd.DataFrame(l2)\n",
    "output.columns = ['pair', 'no_of_rows', 'no_of_trades', 'total_time', 'avg_hourly_trades', 'min_date', 'max_date', 'volume_traded', 'total_turnover', 'avg_price_of_unit_volume', 'total_days']\n",
    "resultant = output.set_index('pair')\n",
    "resultant"
   ]
  },
  {
   "cell_type": "code",
   "execution_count": null,
   "metadata": {},
   "outputs": [],
   "source": [
    "resultant.dtypes"
   ]
  },
  {
   "cell_type": "code",
   "execution_count": null,
   "metadata": {},
   "outputs": [],
   "source": [
    "s = resultant.sort_values(by = ['no_of_rows'], ascending = False)\n",
    "s1 = s.query('no_of_trades >= 500')\n",
    "s2 = s1.query('total_days <= 4')\n",
    "top_daily_traded_pairs = s2.sort_values(by = ['avg_hourly_trades'], ascending = False)\n",
    "top_daily_traded_pairs"
   ]
  },
  {
   "cell_type": "code",
   "execution_count": null,
   "metadata": {},
   "outputs": [],
   "source": []
  }
 ],
 "metadata": {
  "kernelspec": {
   "display_name": "Python 2",
   "language": "python",
   "name": "python2"
  },
  "language_info": {
   "codemirror_mode": {
    "name": "ipython",
    "version": 2
   },
   "file_extension": ".py",
   "mimetype": "text/x-python",
   "name": "python",
   "nbconvert_exporter": "python",
   "pygments_lexer": "ipython2",
   "version": "2.7.12"
  }
 },
 "nbformat": 4,
 "nbformat_minor": 2
}
