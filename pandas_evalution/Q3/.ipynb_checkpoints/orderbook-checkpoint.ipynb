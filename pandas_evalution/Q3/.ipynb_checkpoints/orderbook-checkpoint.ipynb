{
 "cells": [
  {
   "cell_type": "code",
   "execution_count": 1,
   "metadata": {},
   "outputs": [],
   "source": [
    "import pandas as pd\n",
    "import json\n",
    "import glob"
   ]
  },
  {
   "cell_type": "code",
   "execution_count": 2,
   "metadata": {},
   "outputs": [],
   "source": [
    "def Volume(df):\n",
    "    row, col = df.shape\n",
    "    if (row % 2 == 0):\n",
    "        volumes = df['amount'][row/2:]\n",
    "        tot_vol = volumes.sum()\n",
    "        return tot_vol\n",
    "    else:\n",
    "        volumes = df['amount'][((row/2)+1):]\n",
    "        tot_vol = volumes.sum()\n",
    "        return tot_vol"
   ]
  },
  {
   "cell_type": "code",
   "execution_count": 3,
   "metadata": {},
   "outputs": [],
   "source": [
    "file1 = \"../../../data3/t00/ed__ETH_KIN_depth_20180314000001.json\"\n",
    "fp1 = open(file1)\n",
    "order1 = json.load(fp1)\n",
    "seller1 = pd.DataFrame(order1['sells'])\n",
    "seller1.price = seller1.price.astype(float)\n",
    "seller1.amount = seller1.amount.astype(float)\n",
    "buyer1 = pd.DataFrame(order1['buys'])\n",
    "buyer1.price = buyer1.price.astype(float)\n",
    "buyer1.amount = buyer1.amount.astype(float)\n",
    "buyer1.sort_values(by = ['price'], ascending = False)['amount']\n",
    "seller1.sort_values(by = ['price'], ascending = False)['amount']\n",
    "volume11 = Volume(buyer1)\n",
    "volume12 = Volume(seller1)\n",
    "bid1 = max(buyer1.price)\n",
    "ask1 = min(seller1.price)\n",
    "spread1 = (ask1 - bid1)\n",
    "l1 = file1.split('_')\n",
    "l2 = l1[5].split('.')\n",
    "time1 = pd.to_datetime(l2[0])\n",
    "measures1 = {'Ask' : ask1, 'Bid' : bid1, 'Spread' : spread1, 'Volume_sell' : volume12, 'Volume_buy' : volume11}"
   ]
  },
  {
   "cell_type": "code",
   "execution_count": 4,
   "metadata": {},
   "outputs": [],
   "source": [
    "file2 = \"../../../data3/t00/ed__ETH_KIN_depth_20180314000023.json\"\n",
    "fp2 = open(file2)\n",
    "order2 = json.load(fp2)\n",
    "seller2 = pd.DataFrame(order2['sells'])\n",
    "seller2.price = seller2.price.astype(float)\n",
    "seller2.amount = seller2.amount.astype(float)\n",
    "buyer2 = pd.DataFrame(order2['buys'])\n",
    "buyer2.price = buyer2.price.astype(float)\n",
    "buyer2.amount = buyer2.amount.astype(float)\n",
    "buyer2.sort_values(by = ['price'], ascending = False)['amount']\n",
    "seller2.sort_values(by = ['price'], ascending = False)['amount']\n",
    "volume21 = Volume(buyer2)\n",
    "volume22 = Volume(seller2)\n",
    "bid2= max(buyer2.price)\n",
    "ask2= min(seller2.price)\n",
    "spread2 = (ask2 - bid2)\n",
    "l3 = file2.split('_')\n",
    "l4 = l3[5].split('.')\n",
    "time2 = pd.to_datetime(l4[0])\n",
    "measures2 = {'Ask' : ask2, 'Bid' : bid2, 'Spread' : spread2, 'Volume_sell' : volume22, 'Volume_buy' : volume21}"
   ]
  },
  {
   "cell_type": "code",
   "execution_count": 5,
   "metadata": {},
   "outputs": [
    {
     "data": {
      "text/html": [
       "<div>\n",
       "<style scoped>\n",
       "    .dataframe tbody tr th:only-of-type {\n",
       "        vertical-align: middle;\n",
       "    }\n",
       "\n",
       "    .dataframe tbody tr th {\n",
       "        vertical-align: top;\n",
       "    }\n",
       "\n",
       "    .dataframe thead th {\n",
       "        text-align: right;\n",
       "    }\n",
       "</style>\n",
       "<table border=\"1\" class=\"dataframe\">\n",
       "  <thead>\n",
       "    <tr style=\"text-align: right;\">\n",
       "      <th></th>\n",
       "      <th>Ask</th>\n",
       "      <th>Bid</th>\n",
       "      <th>Spread</th>\n",
       "      <th>Timestamp</th>\n",
       "      <th>Volume_buy</th>\n",
       "      <th>Volume_sell</th>\n",
       "    </tr>\n",
       "  </thead>\n",
       "  <tbody>\n",
       "    <tr>\n",
       "      <th>0</th>\n",
       "      <td>3.112381e-07</td>\n",
       "      <td>3.080000e-07</td>\n",
       "      <td>3.238084e-09</td>\n",
       "      <td>NaT</td>\n",
       "      <td>4.359276e+38</td>\n",
       "      <td>-5.113701e+25</td>\n",
       "    </tr>\n",
       "    <tr>\n",
       "      <th>1</th>\n",
       "      <td>3.111115e-07</td>\n",
       "      <td>3.080000e-07</td>\n",
       "      <td>3.111515e-09</td>\n",
       "      <td>2018-03-14 00:00:23</td>\n",
       "      <td>4.359276e+38</td>\n",
       "      <td>-4.405031e+25</td>\n",
       "    </tr>\n",
       "  </tbody>\n",
       "</table>\n",
       "</div>"
      ],
      "text/plain": [
       "            Ask           Bid        Spread           Timestamp    Volume_buy  \\\n",
       "0  3.112381e-07  3.080000e-07  3.238084e-09                 NaT  4.359276e+38   \n",
       "1  3.111115e-07  3.080000e-07  3.111515e-09 2018-03-14 00:00:23  4.359276e+38   \n",
       "\n",
       "    Volume_sell  \n",
       "0 -5.113701e+25  \n",
       "1 -4.405031e+25  "
      ]
     },
     "execution_count": 5,
     "metadata": {},
     "output_type": "execute_result"
    }
   ],
   "source": [
    "list1 = []\n",
    "list1.append(measures1)\n",
    "if measures1 != measures2:\n",
    "    ask = ask2\n",
    "    bid = bid2\n",
    "    spread = spread2\n",
    "    time = time2\n",
    "    volume_sell = volume22\n",
    "    volume_buy = volume21\n",
    "    entry = {'Ask' : ask, 'Bid' : bid, 'Spread' : spread, 'Timestamp' : time, 'Volume_sell' : volume_sell, 'Volume_buy' : volume_buy}\n",
    "    list1.append(entry)\n",
    "else:    \n",
    "    ask = ask1\n",
    "    bid = bid1\n",
    "    spread = spread1\n",
    "    time = time1\n",
    "    volume_sell = volume12\n",
    "    volume_buy = volume11\n",
    "    \n",
    "pd.DataFrame(list1)"
   ]
  },
  {
   "cell_type": "code",
   "execution_count": null,
   "metadata": {},
   "outputs": [],
   "source": []
  },
  {
   "cell_type": "code",
   "execution_count": null,
   "metadata": {},
   "outputs": [],
   "source": []
  },
  {
   "cell_type": "code",
   "execution_count": null,
   "metadata": {},
   "outputs": [],
   "source": []
  },
  {
   "cell_type": "code",
   "execution_count": null,
   "metadata": {},
   "outputs": [],
   "source": []
  },
  {
   "cell_type": "code",
   "execution_count": null,
   "metadata": {},
   "outputs": [],
   "source": []
  },
  {
   "cell_type": "code",
   "execution_count": null,
   "metadata": {},
   "outputs": [],
   "source": []
  },
  {
   "cell_type": "code",
   "execution_count": null,
   "metadata": {},
   "outputs": [],
   "source": [
    "json_files = glob.glob('data/t00/*.json')\n",
    "json_files_iter = iter(json_files)"
   ]
  },
  {
   "cell_type": "code",
   "execution_count": null,
   "metadata": {},
   "outputs": [],
   "source": [
    "file_name = json_files_iter.next()\n",
    "file_name"
   ]
  },
  {
   "cell_type": "code",
   "execution_count": null,
   "metadata": {},
   "outputs": [],
   "source": [
    "class orderbook(object):\n",
    "    def __init__(self,data):\n",
    "        self.data = data\n",
    "        self.time =  data['time']\n",
    "        self.ask = data['ask']\n",
    "        self.bid = data['bid']\n",
    "        self.spread = data['spread']\n",
    "\n",
    "    def comparison(self, old_data, new_data):\n",
    "        if old_data != new_data:\n",
    "            ask1 = ask_new\n",
    "            bid1 = bid_new\n",
    "            spread1 = spread_new\n",
    "        else:    \n",
    "            ask1 = ask_old\n",
    "            bid1 = bid_old\n",
    "            spread1 = spread_old"
   ]
  },
  {
   "cell_type": "code",
   "execution_count": null,
   "metadata": {},
   "outputs": [],
   "source": []
  },
  {
   "cell_type": "code",
   "execution_count": null,
   "metadata": {},
   "outputs": [],
   "source": []
  }
 ],
 "metadata": {
  "kernelspec": {
   "display_name": "Python 2",
   "language": "python",
   "name": "python2"
  },
  "language_info": {
   "codemirror_mode": {
    "name": "ipython",
    "version": 2
   },
   "file_extension": ".py",
   "mimetype": "text/x-python",
   "name": "python",
   "nbconvert_exporter": "python",
   "pygments_lexer": "ipython2",
   "version": "2.7.12"
  }
 },
 "nbformat": 4,
 "nbformat_minor": 2
}
